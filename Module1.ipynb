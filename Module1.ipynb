{
 "cells": [
  {
   "cell_type": "code",
   "execution_count": 6,
   "id": "cc15bdca",
   "metadata": {},
   "outputs": [],
   "source": [
    "# Create a list of temperatures\n",
    "# Units are in fahrenheit"
   ]
  },
  {
   "cell_type": "code",
   "execution_count": 9,
   "id": "a9eba7db",
   "metadata": {},
   "outputs": [],
   "source": [
    "t_f = [68.1, 73.4, 70.8, 75.9, 69.5, 68.0, 74.6]"
   ]
  },
  {
   "cell_type": "code",
   "execution_count": 7,
   "id": "f590fb9b",
   "metadata": {},
   "outputs": [],
   "source": [
    "# Take the average of these temperatures and print the average temp"
   ]
  },
  {
   "cell_type": "code",
   "execution_count": 15,
   "id": "f5a43c8d",
   "metadata": {},
   "outputs": [],
   "source": [
    "avg_f = sum(t_f) / len(t_f)"
   ]
  },
  {
   "cell_type": "code",
   "execution_count": 16,
   "id": "c89157d8",
   "metadata": {},
   "outputs": [
    {
     "name": "stdout",
     "output_type": "stream",
     "text": [
      "The average temperature in fahrenheit is 71.47142857142858\n"
     ]
    }
   ],
   "source": [
    "print(\"The average temperature in fahrenheit is\", avg_f)"
   ]
  },
  {
   "cell_type": "code",
   "execution_count": 8,
   "id": "24c70fd4",
   "metadata": {},
   "outputs": [],
   "source": [
    "# Now convert the temperatures from fahrenheit to celsius"
   ]
  },
  {
   "cell_type": "code",
   "execution_count": 13,
   "id": "b1639f81",
   "metadata": {},
   "outputs": [
    {
     "name": "stdout",
     "output_type": "stream",
     "text": [
      "The temperatures converted to celsius are [20.055555555555554, 23.000000000000004, 21.555555555555554, 24.388888888888893, 20.833333333333336, 20.0, 23.666666666666664]\n"
     ]
    }
   ],
   "source": [
    "# Create a list and append the temps converted from fahrenheit to celsius\n",
    "\n",
    "t_c = []\n",
    "for f in t_f:\n",
    "    c = (f-32)*(5/9)\n",
    "    t_c.append(c)\n",
    "\n",
    "print(\"The temperatures converted to celsius are\", t_c)"
   ]
  },
  {
   "cell_type": "code",
   "execution_count": 14,
   "id": "9f67ee15",
   "metadata": {},
   "outputs": [
    {
     "name": "stdout",
     "output_type": "stream",
     "text": [
      "The average temperature in celsius is 21.928571428571427\n"
     ]
    }
   ],
   "source": [
    "# Take the average of these temperatures and print the average temp \n",
    "avg_c = sum(t_c) / len(t_c)\n",
    "\n",
    "print(\"The average temperature in celsius is\", avg_c)"
   ]
  }
 ],
 "metadata": {
  "kernelspec": {
   "display_name": "base",
   "language": "python",
   "name": "python3"
  },
  "language_info": {
   "codemirror_mode": {
    "name": "ipython",
    "version": 3
   },
   "file_extension": ".py",
   "mimetype": "text/x-python",
   "name": "python",
   "nbconvert_exporter": "python",
   "pygments_lexer": "ipython3",
   "version": "3.11.6"
  }
 },
 "nbformat": 4,
 "nbformat_minor": 5
}
