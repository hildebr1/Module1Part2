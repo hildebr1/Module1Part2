{
 "cells": [
  {
   "cell_type": "code",
   "execution_count": 3,
   "id": "cc15bdca",
   "metadata": {},
   "outputs": [],
   "source": [
    "#Create a list of temperatures\n",
    "#Units are in fahrenheit"
   ]
  },
  {
   "cell_type": "code",
   "execution_count": 1,
   "id": "a9eba7db",
   "metadata": {},
   "outputs": [],
   "source": [
    "t = [68.1, 73.4, 70.8, 75.9, 69.5, 68.0, 74.6]"
   ]
  },
  {
   "cell_type": "code",
   "execution_count": 2,
   "id": "f590fb9b",
   "metadata": {},
   "outputs": [],
   "source": [
    "#Take the average of these temperatures and print the average temp"
   ]
  },
  {
   "cell_type": "code",
   "execution_count": 4,
   "id": "f5a43c8d",
   "metadata": {},
   "outputs": [],
   "source": [
    "avg = sum(t) / len(t)"
   ]
  },
  {
   "cell_type": "code",
   "execution_count": 5,
   "id": "c89157d8",
   "metadata": {},
   "outputs": [
    {
     "name": "stdout",
     "output_type": "stream",
     "text": [
      "The average temperature in fahrenheit is 71.47142857142858\n"
     ]
    }
   ],
   "source": [
    "print(\"The average temperature in fahrenheit is\", avg)"
   ]
  }
 ],
 "metadata": {
  "kernelspec": {
   "display_name": "base",
   "language": "python",
   "name": "python3"
  },
  "language_info": {
   "codemirror_mode": {
    "name": "ipython",
    "version": 3
   },
   "file_extension": ".py",
   "mimetype": "text/x-python",
   "name": "python",
   "nbconvert_exporter": "python",
   "pygments_lexer": "ipython3",
   "version": "3.11.6"
  }
 },
 "nbformat": 4,
 "nbformat_minor": 5
}
